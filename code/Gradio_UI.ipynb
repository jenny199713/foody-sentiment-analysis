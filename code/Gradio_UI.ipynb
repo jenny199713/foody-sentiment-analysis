{
 "cells": [
  {
   "cell_type": "code",
   "execution_count": 1,
   "id": "78f662b6",
   "metadata": {},
   "outputs": [],
   "source": [
    "import gradio as gr\n",
    "from __future__ import print_function\n",
    "from sklearn import metrics\n",
    "from imblearn.pipeline import make_pipeline\n",
    "from sklearn.feature_extraction.text import CountVectorizer,TfidfTransformer\n",
    "from sklearn.model_selection import train_test_split\n",
    "from sklearn.model_selection import cross_val_score\n",
    "from sklearn.linear_model import LogisticRegression\n",
    "from imblearn.over_sampling import SMOTE\n",
    "from sklearn.model_selection import cross_val_score\n",
    "from sklearn.metrics import classification_report, confusion_matrix\n",
    "import numpy as np\n",
    "import pandas as pd\n",
    "from pyvi import ViTokenizer\n",
    "import re\n",
    "import string\n",
    "import codecs\n",
    "from underthesea import word_tokenize\n",
    "import re\n",
    "from advertools.emoji import EMOJI\n",
    "from joblib import dump, load\n",
    "\n",
    "from preprocess_text_sourcecode import *"
   ]
  },
  {
   "cell_type": "code",
   "execution_count": 2,
   "id": "a46d8233",
   "metadata": {},
   "outputs": [],
   "source": [
    "model = load('LogisticRegressionModel2.joblib')"
   ]
  },
  {
   "cell_type": "code",
   "execution_count": 3,
   "id": "04b8dc6b",
   "metadata": {},
   "outputs": [],
   "source": [
    "def MLfunction(text):\n",
    "    clean_text = pre_processing(text)\n",
    "    token_text = tokenize(text)\n",
    "    ypred = model.predict([token_text])\n",
    "    yproba = model.predict_proba([token_text])[0][ypred]\n",
    "    if ypred == 0:\n",
    "        output = \"tích cực\"\n",
    "    elif ypred == 1:\n",
    "        output = \"trung tính\"\n",
    "    else:\n",
    "        output = \"tiêu cực\"\n",
    "    return \"Mô hình dự đoán nhận xét này có thái độ {} với độ tin cậy {}%\".format(output, int(yproba * 100))"
   ]
  },
  {
   "cell_type": "code",
   "execution_count": 4,
   "id": "141fb8b2",
   "metadata": {},
   "outputs": [
    {
     "data": {
      "text/plain": [
       "'Mô hình dự đoán nhận xét này có thái độ tiêu cực với độ tin cậy 82%'"
      ]
     },
     "execution_count": 4,
     "metadata": {},
     "output_type": "execute_result"
    }
   ],
   "source": [
    "MLfunction(\"Chỗ này tệ lắm\")"
   ]
  },
  {
   "cell_type": "code",
   "execution_count": 5,
   "id": "8eddc6ca",
   "metadata": {},
   "outputs": [
    {
     "data": {
      "text/plain": [
       "'Mô hình dự đoán nhận xét này có thái độ trung tính với độ tin cậy 97%'"
      ]
     },
     "execution_count": 5,
     "metadata": {},
     "output_type": "execute_result"
    }
   ],
   "source": [
    "MLfunction(\"Đồ ăn chỗ này tạm được\")"
   ]
  },
  {
   "cell_type": "code",
   "execution_count": 6,
   "id": "c08f60ff",
   "metadata": {},
   "outputs": [
    {
     "data": {
      "text/plain": [
       "'Mô hình dự đoán nhận xét này có thái độ tích cực với độ tin cậy 99%'"
      ]
     },
     "execution_count": 6,
     "metadata": {},
     "output_type": "execute_result"
    }
   ],
   "source": [
    "MLfunction(\"Chỗ này ngon\")"
   ]
  },
  {
   "cell_type": "code",
   "execution_count": 7,
   "id": "4300a267",
   "metadata": {
    "scrolled": false
   },
   "outputs": [
    {
     "name": "stdout",
     "output_type": "stream",
     "text": [
      "IMPORTANT: You are using gradio version 2.3.6, however version 2.4.2 is available, please upgrade.\n",
      "--------\n",
      "Running on local URL:  http://127.0.0.1:7860/\n",
      "\n",
      "This share link will expire in 72 hours. To get longer links, send an email to: support@gradio.app\n"
     ]
    },
    {
     "name": "stderr",
     "output_type": "stream",
     "text": [
      "2021-11-14 17:02:52,923 | INFO | transport.py:1819 | _log | Connected (version 2.0, client OpenSSH_7.6p1)\n",
      "2021-11-14 17:02:54,330 | INFO | transport.py:1819 | _log | Authentication (publickey) successful!\n"
     ]
    },
    {
     "name": "stdout",
     "output_type": "stream",
     "text": [
      "Running on public URL: https://38986.gradio.app\n",
      "Interface loading below...\n"
     ]
    },
    {
     "data": {
      "text/html": [
       "\n",
       "        <iframe\n",
       "            width=\"900\"\n",
       "            height=\"500\"\n",
       "            src=\"https://38986.gradio.app\"\n",
       "            frameborder=\"0\"\n",
       "            allowfullscreen\n",
       "            \n",
       "        ></iframe>\n",
       "        "
      ],
      "text/plain": [
       "<IPython.lib.display.IFrame at 0x2134ed56340>"
      ]
     },
     "metadata": {},
     "output_type": "display_data"
    },
    {
     "data": {
      "text/plain": [
       "(<Flask 'gradio.networking'>,\n",
       " 'http://127.0.0.1:7860/',\n",
       " 'https://38986.gradio.app')"
      ]
     },
     "execution_count": 7,
     "metadata": {},
     "output_type": "execute_result"
    }
   ],
   "source": [
    "iface = gr.Interface(fn=MLfunction,\n",
    "                     title = \"Dự đoán cảm xúc\",\n",
    "                     description = \"Vui lòng nhập vào một lời nhận xét, mô hình sẽ dự đoán nhận xét này có thái độ tích cực, tiêu cực, hay trung tính.\",\n",
    "                     inputs=gr.inputs.Textbox(lines = 2, label = \"Nhận xét của khách hàng:\", placeholder = \"Quán này rất ngon\"), \n",
    "                     outputs=gr.outputs.Textbox(type = \"str\", label = \"Cảm xúc:\"),\n",
    "                     layout = \"horizontal\",\n",
    "                     theme = \"huggingface\",\n",
    "                     allow_flagging = False\n",
    "                    )\n",
    "\n",
    "iface.launch(share = True)"
   ]
  },
  {
   "cell_type": "code",
   "execution_count": null,
   "id": "d7ee4d56",
   "metadata": {},
   "outputs": [],
   "source": []
  }
 ],
 "metadata": {
  "kernelspec": {
   "display_name": "Python 3 (ipykernel)",
   "language": "python",
   "name": "python3"
  },
  "language_info": {
   "codemirror_mode": {
    "name": "ipython",
    "version": 3
   },
   "file_extension": ".py",
   "mimetype": "text/x-python",
   "name": "python",
   "nbconvert_exporter": "python",
   "pygments_lexer": "ipython3",
   "version": "3.9.7"
  }
 },
 "nbformat": 4,
 "nbformat_minor": 5
}
