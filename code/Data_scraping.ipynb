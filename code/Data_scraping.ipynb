{
 "cells": [
  {
   "cell_type": "code",
   "execution_count": 1,
   "id": "d28e246b",
   "metadata": {},
   "outputs": [
    {
     "name": "stderr",
     "output_type": "stream",
     "text": [
      "[WDM] - \n",
      "\n",
      "[WDM] - ====== WebDriver manager ======\n",
      "[WDM] - Current google-chrome version is 94.0.4606\n",
      "[WDM] - Get LATEST driver version for 94.0.4606\n",
      "[WDM] - Get LATEST driver version for 94.0.4606\n",
      "[WDM] - Trying to download new driver from https://chromedriver.storage.googleapis.com/94.0.4606.61/chromedriver_win32.zip\n",
      "[WDM] - Driver has been saved in cache [C:\\Users\\Jenny\\.wdm\\drivers\\chromedriver\\win32\\94.0.4606.61]\n"
     ]
    }
   ],
   "source": [
    "from selenium import webdriver\n",
    "from selenium.webdriver.common.by import By\n",
    "from webdriver_manager.chrome import ChromeDriverManager\n",
    "import time\n",
    "\n",
    "browser = webdriver.Chrome(ChromeDriverManager().install())\n",
    "\n",
    "data_score = open(\"data_score.txt\", 'a+', encoding = 'utf-8')\n",
    "data_desc  = open(\"data_desc.txt\", 'a+', encoding = 'utf-8')\n",
    "\n",
    "city_lst =   ['ho-chi-minh', 'ha-noi', 'da-nang', 'can-tho', 'khanh-hoa',\n",
    "              'vung-tau', 'hai-phong', 'binh-thuan', 'lam-dong', 'dong-nai',\n",
    "              'quang-ninh', 'hue', 'binh-duong', 'hai-duong', 'ninh-thuan',\n",
    "              'nam-dinh', 'tien-giang', 'phu-quoc', 'kon-tum', 'quang-nam',\n",
    "              'lao-cai', 'nghe-an', 'long-an', 'binh-dinh', 'phu-yen', \n",
    "              'an-giang', 'dak-lak', 'thanh-hoa', 'kien-giang', 'quang-ngai', \n",
    "              'tay-ninh', 'gia-lai', 'vinh-long', 'ca-mau', 'dong-thap', \n",
    "              'quang-binh', 'quang-tri','ben-tre', 'binh-phuoc', 'soc-trang', \n",
    "              'bac-ninh', 'vinh-phuc', 'tra-vinh', 'ninh-binh', 'bac-lieu', \n",
    "              'thai-nguyen', 'ha-tinh','bac-giang', 'phu-tho', 'hau-giang', \n",
    "              'thai-binh', 'son-la', 'lang-son', 'hoa-binh', 'hung-yen', \n",
    "              'ha-giang', 'dak-nong', 'tuyen-quang', 'yen-bai', 'ha-nam', \n",
    "              'dien-bien', 'cao-bang', 'lai-chau', 'bac-kan'\n",
    "             ]\n",
    "\n",
    "\n",
    "for city in city_lst:\n",
    "    url = 'https://www.foody.vn/' + city + '/binh-luan'\n",
    "    browser.get(url)\n",
    "    time.sleep(10)\n",
    "\n",
    "    # every 5 seconds, click the \"Load more\" button (if such button is available)\n",
    "    try:\n",
    "        button = browser.find_element(By.CLASS_NAME,'fd-btn-more') \n",
    "        for i in range(50):\n",
    "            try:\n",
    "                button.click()\n",
    "                time.sleep(5)\n",
    "            except:\n",
    "                pass\n",
    "    except:\n",
    "        pass\n",
    "\n",
    "    div_score = browser.find_elements(By.XPATH, '//div[@class=\"review-user fd-clearbox ng-scope\"]')\n",
    "    div_desc  = browser.find_elements(By.XPATH, '//div[@class=\"review-des fd-clearbox ng-scope\"]')\n",
    "\n",
    "\n",
    "    for i in range(len(div_score)):\n",
    "        try:\n",
    "            score = div_score[i].text.split('\\n')[3]\n",
    "            description_as_lst = div_desc[i].text.split('\\n')[1:]\n",
    "        except:\n",
    "            pass\n",
    "        \n",
    "        data_score.write(score)\n",
    "        data_score.write('\\n')\n",
    "\n",
    "        description = ' '.join(description_as_lst)\n",
    "        data_desc.write(description)\n",
    "        data_desc.write('\\n')\n"
   ]
  },
  {
   "cell_type": "code",
   "execution_count": 2,
   "id": "d1157e1c",
   "metadata": {},
   "outputs": [],
   "source": [
    "data_score.close()\n",
    "data_desc.close()"
   ]
  },
  {
   "cell_type": "code",
   "execution_count": null,
   "id": "ec1966f2",
   "metadata": {},
   "outputs": [],
   "source": []
  }
 ],
 "metadata": {
  "finalized": {
   "timestamp": 1634049419640,
   "trusted": true
  },
  "kernelspec": {
   "display_name": "Python 3 (ipykernel)",
   "language": "python",
   "name": "python3"
  },
  "language_info": {
   "codemirror_mode": {
    "name": "ipython",
    "version": 3
   },
   "file_extension": ".py",
   "mimetype": "text/x-python",
   "name": "python",
   "nbconvert_exporter": "python",
   "pygments_lexer": "ipython3",
   "version": "3.9.7"
  }
 },
 "nbformat": 4,
 "nbformat_minor": 5
}
